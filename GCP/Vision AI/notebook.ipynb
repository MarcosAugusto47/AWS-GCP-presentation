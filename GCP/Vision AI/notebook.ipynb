{
 "cells": [
  {
   "cell_type": "code",
   "execution_count": 1,
   "metadata": {},
   "outputs": [],
   "source": [
    "import cv2\n",
    "#import pytesseract\n",
    "import numpy as np\n",
    "import requests\n",
    "import base64\n",
    "import json"
   ]
  },
  {
   "cell_type": "code",
   "execution_count": 2,
   "metadata": {},
   "outputs": [],
   "source": [
    "def showText(text=\"text\", alt=400, lar=600):\n",
    "\n",
    "    shape = [alt, lar, 3]  # alt lar canais\n",
    "    lineType = cv2.LINE_AA\n",
    "    font = cv2.FONT_HERSHEY_PLAIN\n",
    "    font_color = [0, 0, 0]\n",
    "\n",
    "    blank_image = np.ones(shape=shape, dtype=np.uint8) * 255\n",
    "\n",
    "    if type(text) is list:\n",
    "        for i, t in enumerate(text):\n",
    "            cv2.putText(blank_image, t, (10, 50 + (i * 50)), font,\n",
    "                        3, font_color, lineType=lineType)\n",
    "    else:\n",
    "        cv2.putText(blank_image, text, (20, 50), font,\n",
    "                    3, font_color, lineType=lineType)\n",
    "\n",
    "    cv2.imshow(\"text\", blank_image)\n",
    "    cv2.waitKey(0)\n",
    "    cv2.destroyAllWindows()"
   ]
  },
  {
   "cell_type": "code",
   "execution_count": 3,
   "metadata": {},
   "outputs": [],
   "source": [
    "def ocrGoogleVisionApi():\n",
    "\n",
    "    with open(\"output/placa-rua.jpg\", \"rb\") as img_file:\n",
    "        my_base64 = base64.b64encode(img_file.read())\n",
    "\n",
    "    url = \"https://vision.googleapis.com/v1/images:annotate?key=<YOUR API KEY>\"\n",
    "    \n",
    "    data = {\n",
    "        'requests': [\n",
    "            {\n",
    "                'image': {\n",
    "                    'content': my_base64.decode('utf-8')\n",
    "                },\n",
    "                'features': [\n",
    "                    {\n",
    "                        'type': 'TEXT_DETECTION'\n",
    "                    }\n",
    "                ]\n",
    "            }\n",
    "        ]\n",
    "    }\n",
    "\n",
    "    r = requests.post(url=url, data=json.dumps(data))\n",
    "\n",
    "    texts = r.json()['responses'][0]['textAnnotations']\n",
    "\n",
    "    results = []\n",
    "\n",
    "    for t in texts:\n",
    "        results.append(t['description'])\n",
    "\n",
    "    return results"
   ]
  },
  {
   "cell_type": "code",
   "execution_count": 4,
   "metadata": {},
   "outputs": [],
   "source": [
    "if __name__ == \"__main__\":\n",
    "\n",
    "    #source = \"resource/carro4.jpg\"\n",
    "\n",
    "    # encontrarRoiPlaca(source)\n",
    "\n",
    "    # preProcessamentoRoi()\n",
    "\n",
    "    #text = ocrImageRoiPlaca()\n",
    "\n",
    "    # showText(text)\n",
    "\n",
    "    text = ocrGoogleVisionApi()\n",
    "\n",
    "    showText(text)\n"
   ]
  },
  {
   "cell_type": "code",
   "execution_count": 5,
   "metadata": {},
   "outputs": [
    {
     "data": {
      "text/plain": [
       "['30-3\\nAvenida\\nGeneral\\nSan Martin\\nFoi Presidente da República Argentina.\\n283 22441-012 Leblon\\n359\\nSPAST\\nHAARSRES\\nS\\nHALL',\n",
       " '30-3',\n",
       " 'Avenida',\n",
       " 'General',\n",
       " 'San',\n",
       " 'Martin',\n",
       " 'Foi',\n",
       " 'Presidente',\n",
       " 'da',\n",
       " 'República',\n",
       " 'Argentina',\n",
       " '.',\n",
       " '283',\n",
       " '22441-012',\n",
       " 'Leblon',\n",
       " '359',\n",
       " 'SPAST',\n",
       " 'HAARSRES',\n",
       " 'S',\n",
       " 'HALL']"
      ]
     },
     "execution_count": 5,
     "metadata": {},
     "output_type": "execute_result"
    }
   ],
   "source": [
    "text"
   ]
  }
 ],
 "metadata": {
  "kernelspec": {
   "display_name": "base",
   "language": "python",
   "name": "python3"
  },
  "language_info": {
   "codemirror_mode": {
    "name": "ipython",
    "version": 3
   },
   "file_extension": ".py",
   "mimetype": "text/x-python",
   "name": "python",
   "nbconvert_exporter": "python",
   "pygments_lexer": "ipython3",
   "version": "3.9.7"
  },
  "orig_nbformat": 4,
  "vscode": {
   "interpreter": {
    "hash": "6f5583cf1d9466b5c27e75c89cc6b383bed5736d6b16c51c8074d8690011a952"
   }
  }
 },
 "nbformat": 4,
 "nbformat_minor": 2
}
