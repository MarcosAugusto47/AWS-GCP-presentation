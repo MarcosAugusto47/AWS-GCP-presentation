{
 "cells": [
  {
   "cell_type": "code",
   "execution_count": 1,
   "metadata": {},
   "outputs": [],
   "source": [
    "from pprint import pprint\n",
    "from datetime import datetime\n",
    "import googlemaps"
   ]
  },
  {
   "cell_type": "code",
   "execution_count": 2,
   "metadata": {},
   "outputs": [],
   "source": [
    "map_client = googlemaps.Client(key=API_KEY)"
   ]
  },
  {
   "cell_type": "code",
   "execution_count": 3,
   "metadata": {},
   "outputs": [],
   "source": [
    "aeroporto = 'Aeroporto de Brasília'\n",
    "aeroporto_response = map_client.geocode(address=aeroporto)\n",
    "\n",
    "universidade = 'Universidade de Brasília'\n",
    "universidade_response = map_client.geocode(address=universidade)\n",
    "\n",
    "#pprint(aeroporto_response)"
   ]
  },
  {
   "cell_type": "code",
   "execution_count": 4,
   "metadata": {},
   "outputs": [],
   "source": [
    "#print(aeroporto_response[0]['geometry'])\n",
    "#print(universidade_response[0]['geometry'])"
   ]
  },
  {
   "cell_type": "code",
   "execution_count": 5,
   "metadata": {},
   "outputs": [],
   "source": [
    "#reverse_geocode_result = map_client.reverse_geocode((40.714224, -73.961452))\n",
    "#reverse_geocode_result"
   ]
  },
  {
   "cell_type": "code",
   "execution_count": 8,
   "metadata": {},
   "outputs": [],
   "source": [
    "aeroporto_coords = \"-15.8697369, -47.9172348\"\n",
    "universidade_coords = \"-15.7975154, -47.89188739999999\"\n",
    "\n",
    "now = datetime.now()\n",
    "directions_result = map_client.directions(origin=universidade_coords,\n",
    "                                          destination=aeroporto_coords,\n",
    "                                          mode=\"driving\",\n",
    "                                          avoid=\"ferries\",\n",
    "                                          departure_time=now)"
   ]
  },
  {
   "cell_type": "code",
   "execution_count": 9,
   "metadata": {},
   "outputs": [
    {
     "name": "stdout",
     "output_type": "stream",
     "text": [
      "12.6 km\n",
      "16 mins\n"
     ]
    }
   ],
   "source": [
    "print(directions_result[0]['legs'][0]['distance']['text'])\n",
    "print(directions_result[0]['legs'][0]['duration']['text'])"
   ]
  }
 ],
 "metadata": {
  "kernelspec": {
   "display_name": "base",
   "language": "python",
   "name": "python3"
  },
  "language_info": {
   "codemirror_mode": {
    "name": "ipython",
    "version": 3
   },
   "file_extension": ".py",
   "mimetype": "text/x-python",
   "name": "python",
   "nbconvert_exporter": "python",
   "pygments_lexer": "ipython3",
   "version": "3.9.7 (default, Sep 16 2021, 16:59:28) [MSC v.1916 64 bit (AMD64)]"
  },
  "orig_nbformat": 4,
  "vscode": {
   "interpreter": {
    "hash": "6f5583cf1d9466b5c27e75c89cc6b383bed5736d6b16c51c8074d8690011a952"
   }
  }
 },
 "nbformat": 4,
 "nbformat_minor": 2
}
